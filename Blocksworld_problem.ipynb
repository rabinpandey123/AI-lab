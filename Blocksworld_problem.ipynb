{
  "nbformat": 4,
  "nbformat_minor": 0,
  "metadata": {
    "colab": {
      "provenance": [],
      "authorship_tag": "ABX9TyMQQJEkc1R7kldbk/6b90d7",
      "include_colab_link": true
    },
    "kernelspec": {
      "name": "python3",
      "display_name": "Python 3"
    },
    "language_info": {
      "name": "python"
    }
  },
  "cells": [
    {
      "cell_type": "markdown",
      "metadata": {
        "id": "view-in-github",
        "colab_type": "text"
      },
      "source": [
        "<a href=\"https://colab.research.google.com/github/rabinpandey123/rabin/blob/main/Blocksworld_problem.ipynb\" target=\"_parent\"><img src=\"https://colab.research.google.com/assets/colab-badge.svg\" alt=\"Open In Colab\"/></a>"
      ]
    },
    {
      "cell_type": "code",
      "execution_count": 1,
      "metadata": {
        "colab": {
          "base_uri": "https://localhost:8080/"
        },
        "id": "xghHDMr9PvEx",
        "outputId": "d50c404a-7cb9-479a-d438-defaf04a18f4"
      },
      "outputs": [
        {
          "output_type": "stream",
          "name": "stdout",
          "text": [
            "Start State: ['A', 'D', 'C', 'B'], Heuristic Value: -4\n",
            "Goal State: ['D', 'C', 'B', 'A'], Heuristic Value: 4\n"
          ]
        }
      ],
      "source": [
        "class BlocksWorld:\n",
        "    def __init__(self, start_state, goal_state):\n",
        "        self.start_state = start_state  # Current state of blocks\n",
        "        self.goal_state = goal_state    # Goal state of blocks\n",
        "\n",
        "    def calculate_heuristic(self, state):\n",
        "        \"\"\"Calculate heuristic value e(p) for a given state.\"\"\"\n",
        "        heuristic_value = 0\n",
        "        for i in range(len(state)):\n",
        "            # Compare each block with the corresponding block in the goal state\n",
        "            if state[i] == self.goal_state[i]:\n",
        "                heuristic_value += 1  # Correct support structure\n",
        "            else:\n",
        "                heuristic_value -= 1  # Wrong support structure\n",
        "        return heuristic_value\n",
        "\n",
        "    def run(self):\n",
        "        \"\"\"Run heuristic calculation for the start state.\"\"\"\n",
        "        start_heuristic = self.calculate_heuristic(self.start_state)\n",
        "        goal_heuristic = self.calculate_heuristic(self.goal_state)\n",
        "        print(f\"Start State: {self.start_state}, Heuristic Value: {start_heuristic}\")\n",
        "        print(f\"Goal State: {self.goal_state}, Heuristic Value: {goal_heuristic}\")\n",
        "\n",
        "\n",
        "# Define the start and goal states\n",
        "start_state = [\"A\", \"D\", \"C\", \"B\"]  # Top to bottom\n",
        "goal_state = [\"D\", \"C\", \"B\", \"A\"]   # Top to bottom\n",
        "\n",
        "# Create an instance of the BlocksWorld class\n",
        "blocks_world = BlocksWorld(start_state, goal_state)\n",
        "\n",
        "# Run the heuristic calculation\n",
        "blocks_world.run()\n"
      ]
    }
  ]
}