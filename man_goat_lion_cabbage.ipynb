{
  "nbformat": 4,
  "nbformat_minor": 0,
  "metadata": {
    "colab": {
      "provenance": [],
      "authorship_tag": "ABX9TyPdTJy9DiMUTyzuyl6qWWvL",
      "include_colab_link": true
    },
    "kernelspec": {
      "name": "python3",
      "display_name": "Python 3"
    },
    "language_info": {
      "name": "python"
    }
  },
  "cells": [
    {
      "cell_type": "markdown",
      "metadata": {
        "id": "view-in-github",
        "colab_type": "text"
      },
      "source": [
        "<a href=\"https://colab.research.google.com/github/rabinpandey123/rabin/blob/main/man_goat_lion_cabbage.ipynb\" target=\"_parent\"><img src=\"https://colab.research.google.com/assets/colab-badge.svg\" alt=\"Open In Colab\"/></a>"
      ]
    },
    {
      "cell_type": "code",
      "execution_count": 1,
      "metadata": {
        "colab": {
          "base_uri": "https://localhost:8080/"
        },
        "id": "OSLea8tuHPb2",
        "outputId": "0eed16aa-5a8d-452d-d6e2-1b977031f2a1"
      },
      "outputs": [
        {
          "output_type": "stream",
          "name": "stdout",
          "text": [
            "Solution found! Steps:\n",
            "(0, 0, 0, 0)\n",
            "(1, 1, 0, 0)\n",
            "(0, 1, 0, 0)\n",
            "(1, 1, 1, 0)\n",
            "(0, 0, 1, 0)\n",
            "(1, 0, 1, 1)\n",
            "(0, 0, 1, 1)\n",
            "(1, 1, 1, 1)\n"
          ]
        }
      ],
      "source": [
        "from collections import deque\n",
        "\n",
        "class RiverCrossing:\n",
        "    def __init__(self):\n",
        "        # Define the initial and goal states\n",
        "        self.initial_state = (0, 0, 0, 0)  # (man, goat, lion, cabbage) all on the starting side\n",
        "        self.goal_state = (1, 1, 1, 1)  # All on the destination side\n",
        "\n",
        "    def is_valid_state(self, state):\n",
        "        # Check if the state is valid (no rule violation)\n",
        "        man, goat, lion, cabbage = state\n",
        "        # Goat and cabbage left alone -> goat eats cabbage\n",
        "        if goat == cabbage != man:\n",
        "            return False\n",
        "        # Lion and goat left alone -> lion eats goat\n",
        "        if lion == goat != man:\n",
        "            return False\n",
        "        return True\n",
        "\n",
        "    def successors(self, state):\n",
        "        # Generate all possible valid successor states\n",
        "        man, goat, lion, cabbage = state\n",
        "        succ = []\n",
        "\n",
        "        # Man takes himself only\n",
        "        new_state = (1 - man, goat, lion, cabbage)\n",
        "        if self.is_valid_state(new_state):\n",
        "            succ.append(new_state)\n",
        "\n",
        "        # Man takes the goat\n",
        "        if man == goat:\n",
        "            new_state = (1 - man, 1 - goat, lion, cabbage)\n",
        "            if self.is_valid_state(new_state):\n",
        "                succ.append(new_state)\n",
        "\n",
        "        # Man takes the lion\n",
        "        if man == lion:\n",
        "            new_state = (1 - man, goat, 1 - lion, cabbage)\n",
        "            if self.is_valid_state(new_state):\n",
        "                succ.append(new_state)\n",
        "\n",
        "        # Man takes the cabbage\n",
        "        if man == cabbage:\n",
        "            new_state = (1 - man, goat, lion, 1 - cabbage)\n",
        "            if self.is_valid_state(new_state):\n",
        "                succ.append(new_state)\n",
        "\n",
        "        return succ\n",
        "\n",
        "    def bfs(self, initial_state, goal_state):\n",
        "        # Use BFS to find the solution\n",
        "        open_queue = deque([(initial_state, [initial_state])])  # Queue of states with paths\n",
        "        visited = set()  # Set of visited states\n",
        "\n",
        "        while open_queue:\n",
        "            current_state, path = open_queue.popleft()\n",
        "            visited.add(current_state)\n",
        "\n",
        "            # Goal test\n",
        "            if current_state == goal_state:\n",
        "                return path\n",
        "\n",
        "            # Generate successors\n",
        "            for succ in self.successors(current_state):\n",
        "                if succ not in visited:\n",
        "                    open_queue.append((succ, path + [succ]))\n",
        "\n",
        "        return None\n",
        "\n",
        "    def run(self):\n",
        "        # Solve the problem\n",
        "        result = self.bfs(self.initial_state, self.goal_state)\n",
        "        if result is None:\n",
        "            print(\"No solution found!\")\n",
        "        else:\n",
        "            print(\"Solution found! Steps:\")\n",
        "            for step in result:\n",
        "                print(step)\n",
        "\n",
        "\n",
        "# Create an instance of the RiverCrossing class and run it\n",
        "river_crossing = RiverCrossing()\n",
        "river_crossing.run()\n"
      ]
    }
  ]
}